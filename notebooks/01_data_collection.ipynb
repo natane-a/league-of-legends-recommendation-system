{
 "cells": [
  {
   "cell_type": "code",
   "execution_count": 117,
   "id": "e8967924-b976-432a-8266-a43bbed52132",
   "metadata": {},
   "outputs": [],
   "source": [
    "import json\n",
    "\n",
    "# path to credentials.json\n",
    "credentials_path = \"../config/credentials.json\"\n",
    "\n",
    "# load API key\n",
    "with open(credentials_path, 'r') as file:\n",
    "    credentials = json.load(file)\n",
    "    riot_api_key = credentials.get(\"riot_api_key\")"
   ]
  },
  {
   "cell_type": "code",
   "execution_count": 17,
   "id": "2dc694ee-cf79-4d01-84fd-903a1ddf93e9",
   "metadata": {},
   "outputs": [],
   "source": [
    "import requests\n",
    "import pandas as pd\n",
    "import os\n",
    "\n",
    "# API headers\n",
    "headers = {\n",
    "    'X-Riot-Token': riot_api_key\n",
    "}\n",
    "\n",
    "# base API endpoint\n",
    "riot_base_url = \"https://<region>.api.riotgames.com/lol\""
   ]
  },
  {
   "cell_type": "code",
   "execution_count": 81,
   "id": "9be706c2-708a-4254-9185-7f233595e060",
   "metadata": {},
   "outputs": [],
   "source": [
    "def fetch_champion_data_ddragon():\n",
    "    \"\"\"Fetch champion data from DDragon.\"\"\"\n",
    "    url = \"https://ddragon.leagueoflegends.com/cdn/14.23.1/data/en_US/champion.json\"  # Replace with the latest patch\n",
    "    response = requests.get(url)\n",
    "    \n",
    "    if response.status_code == 200:\n",
    "        champions = response.json()\n",
    "        return champions\n",
    "    else:\n",
    "        print(f\"Error fetching champion data: {response.status_code}\")\n",
    "        return None"
   ]
  },
  {
   "cell_type": "code",
   "execution_count": 83,
   "id": "eb9087b2-7c3c-476c-818f-2afdbc68b3bd",
   "metadata": {},
   "outputs": [
    {
     "name": "stdout",
     "output_type": "stream",
     "text": [
      "Champion data saved to ../data/raw/champion_data/champions.json\n"
     ]
    }
   ],
   "source": [
    "# Fetch champion data using DDragon\n",
    "champion_data = fetch_champion_data_ddragon()\n",
    "\n",
    "# Save to JSON file\n",
    "if champion_data:\n",
    "    output_path = \"../data/raw/champion_data/champions.json\"\n",
    "    os.makedirs(os.path.dirname(output_path), exist_ok=True)\n",
    "    with open(output_path, \"w\") as file:\n",
    "        json.dump(champion_data, file)\n",
    "    print(f\"Champion data saved to {output_path}\")"
   ]
  },
  {
   "cell_type": "code",
   "execution_count": 97,
   "id": "8e106e36-458a-4eaa-b903-b17368138b75",
   "metadata": {},
   "outputs": [
    {
     "name": "stdout",
     "output_type": "stream",
     "text": [
      "An error occurred: 400 Client Error: Bad Request for url: https://na1.api.riotgames.com/lol/summoner/v4/summoners/by-name/Natane#chpr\n",
      "No match history found.\n"
     ]
    }
   ],
   "source": [
    "def fetch_match_history(region, summoner_name, count=10):\n",
    "    try:\n",
    "        # Get summoner details\n",
    "        summoner = lol_watcher.summoner.by_name(region, summoner_name)\n",
    "        puuid = summoner[\"puuid\"]\n",
    "\n",
    "        # Fetch match IDs (count specifies how many matches to fetch)\n",
    "        match_ids = lol_watcher.match.matchlist_by_puuid(region, puuid, count=count)\n",
    "\n",
    "        # Fetch match details for each match\n",
    "        match_details = []\n",
    "        for match_id in match_ids:\n",
    "            match_detail = lol_watcher.match.by_id(region, match_id)\n",
    "            match_details.append(match_detail)\n",
    "\n",
    "        return match_details\n",
    "    except Exception as e:\n",
    "        print(f\"An error occurred: {e}\")\n",
    "        return None\n",
    "\n",
    "region = \"na1\"  # Specify region (e.g., na1 for North America)\n",
    "summoner_name = \"Natane#chpr\"  # Replace with the summoner name\n",
    "match_history = fetch_match_history(region, summoner_name, count=5)\n",
    "\n",
    "# Display the match history\n",
    "if match_history:\n",
    "    for i, match in enumerate(match_history, start=1):\n",
    "        print(f\"Match {i}: {match['metadata']['matchId']}\")\n",
    "else:\n",
    "    print(\"No match history found.\")"
   ]
  },
  {
   "cell_type": "code",
   "execution_count": 33,
   "id": "230d6d6e-dab7-4d55-80d7-8b6efb621927",
   "metadata": {},
   "outputs": [
    {
     "name": "stdout",
     "output_type": "stream",
     "text": [
      "Error fetching summoner data: 400\n"
     ]
    }
   ],
   "source": [
    "# Fetch match history\n",
    "matches = fetch_match_history(\"Natane-chpr\", \"na1\", count=20)\n",
    "\n",
    "# Save to JSON file\n",
    "if matches:\n",
    "    output_path = \"../data/raw/match_histories/matches.json\"\n",
    "    os.makedirs(os.path.dirname(output_path), exist_ok=True)\n",
    "    with open(output_path, \"w\") as file:\n",
    "        json.dump(matches, file)\n",
    "    print(f\"Match history saved to {output_path}\")"
   ]
  },
  {
   "cell_type": "code",
   "execution_count": 43,
   "id": "b990f1a0-b4c4-47dd-961b-632978982a69",
   "metadata": {},
   "outputs": [
    {
     "data": {
      "text/plain": [
       "'\\n# Load champion data from the JSON file\\nchampion_file_path = \"../data/raw/champion_data/champions.json\"  # Adjust the path to where your file is saved\\nwith open(champion_file_path, \"r\") as file:\\n    champion_data = json.load(file)\\n\\n# Check the structure of the data (first few champions)\\nprint(json.dumps(champion_data, indent=4))  # Pretty-print the JSON data\\n\\n# If you want to explore the champion names or specific attributes\\nchampions = champion_data.get(\"data\", {})  # This contains champion details\\n\\n# Print names of the first 10 champions\\nfor champ_id, champ_info in list(champions.items())[:10]:\\n    print(f\"Champion: {champ_info[\\'name\\']}\")\\n'"
      ]
     },
     "execution_count": 43,
     "metadata": {},
     "output_type": "execute_result"
    }
   ],
   "source": [
    "'''\n",
    "# Load champion data from the JSON file\n",
    "champion_file_path = \"../data/raw/champion_data/champions.json\"  # Adjust the path to where your file is saved\n",
    "with open(champion_file_path, \"r\") as file:\n",
    "    champion_data = json.load(file)\n",
    "\n",
    "# Check the structure of the data (first few champions)\n",
    "print(json.dumps(champion_data, indent=4))  # Pretty-print the JSON data\n",
    "\n",
    "# If you want to explore the champion names or specific attributes\n",
    "champions = champion_data.get(\"data\", {})  # This contains champion details\n",
    "\n",
    "# Print names of the first 10 champions\n",
    "for champ_id, champ_info in list(champions.items())[:10]:\n",
    "    print(f\"Champion: {champ_info['name']}\")\n",
    "'''"
   ]
  },
  {
   "cell_type": "code",
   "execution_count": null,
   "id": "4746b735-2b97-4122-832a-46f908800930",
   "metadata": {},
   "outputs": [],
   "source": []
  },
  {
   "cell_type": "code",
   "execution_count": null,
   "id": "b3915338-7746-4a93-bae6-f6305995c1dc",
   "metadata": {},
   "outputs": [],
   "source": []
  },
  {
   "cell_type": "code",
   "execution_count": null,
   "id": "6c2d167d-9191-4041-a195-f3a404e23c04",
   "metadata": {},
   "outputs": [],
   "source": []
  }
 ],
 "metadata": {
  "kernelspec": {
   "display_name": "Python 3 (ipykernel)",
   "language": "python",
   "name": "python3"
  },
  "language_info": {
   "codemirror_mode": {
    "name": "ipython",
    "version": 3
   },
   "file_extension": ".py",
   "mimetype": "text/x-python",
   "name": "python",
   "nbconvert_exporter": "python",
   "pygments_lexer": "ipython3",
   "version": "3.12.7"
  }
 },
 "nbformat": 4,
 "nbformat_minor": 5
}
