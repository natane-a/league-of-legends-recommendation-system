{
 "cells": [
  {
   "cell_type": "code",
   "execution_count": null,
   "id": "e79f93ab-aaa4-46f4-8a76-e91b7c4636b0",
   "metadata": {},
   "outputs": [],
   "source": [
    "'''\n",
    "Transfer learning distilbert/distilgpt2 for conversational responses for recommendations\n",
    "\n",
    "https://huggingface.co/distilbert/distilgpt2\n",
    "'''"
   ]
  }
 ],
 "metadata": {
  "kernelspec": {
   "display_name": "Python 3 (ipykernel)",
   "language": "python",
   "name": "python3"
  },
  "language_info": {
   "codemirror_mode": {
    "name": "ipython",
    "version": 3
   },
   "file_extension": ".py",
   "mimetype": "text/x-python",
   "name": "python",
   "nbconvert_exporter": "python",
   "pygments_lexer": "ipython3",
   "version": "3.12.7"
  }
 },
 "nbformat": 4,
 "nbformat_minor": 5
}
