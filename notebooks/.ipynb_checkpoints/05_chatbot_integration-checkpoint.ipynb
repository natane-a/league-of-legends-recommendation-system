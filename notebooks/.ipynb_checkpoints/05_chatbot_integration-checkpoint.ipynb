{
 "cells": [
  {
   "cell_type": "code",
   "execution_count": 2,
   "id": "4cf86272-0157-4025-816b-4d0c6225361d",
   "metadata": {},
   "outputs": [],
   "source": [
    "import sys\n",
    "sys.path.append(\"../src\")\n",
    "from chatbot import predict_optimal_build\n",
    "import joblib"
   ]
  },
  {
   "cell_type": "code",
   "execution_count": null,
   "id": "3f4a9e9c-3cf3-4c17-abe5-fce189f24417",
   "metadata": {},
   "outputs": [],
   "source": [
    "import joblib\n",
    "\n",
    "model_path = \"../models/best_recommendation_model.pkl\"\n",
    "best_model = joblib.load(model_path)\n",
    "\n",
    "# Define input champion names\n",
    "champion_name = \"Kayle\"\n",
    "matchup_champion_name = \"Jax\"\n",
    "\n",
    "# Predicting the optimal build\n",
    "from src.chatbot import predict_optimal_build  # Make sure to use the updated import path\n",
    "recommended_build = predict_optimal_build(champion_name, matchup_champion_name, df, pipeline, best_model)\n",
    "\n",
    "# Displaying the output\n",
    "print(\"Recommended Items and Runes:\", recommended_build)"
   ]
  },
  {
   "cell_type": "code",
   "execution_count": null,
   "id": "eb47bd5f-18ee-4c2e-acc4-80ce0609c382",
   "metadata": {},
   "outputs": [],
   "source": []
  }
 ],
 "metadata": {
  "kernelspec": {
   "display_name": "Python 3 (ipykernel)",
   "language": "python",
   "name": "python3"
  },
  "language_info": {
   "codemirror_mode": {
    "name": "ipython",
    "version": 3
   },
   "file_extension": ".py",
   "mimetype": "text/x-python",
   "name": "python",
   "nbconvert_exporter": "python",
   "pygments_lexer": "ipython3",
   "version": "3.12.7"
  }
 },
 "nbformat": 4,
 "nbformat_minor": 5
}
