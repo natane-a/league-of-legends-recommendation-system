{
 "cells": [
  {
   "cell_type": "code",
   "execution_count": null,
   "id": "e79f93ab-aaa4-46f4-8a76-e91b7c4636b0",
   "metadata": {},
   "outputs": [],
   "source": [
    "'''\n",
    "Transfer learning distilbert/distilgpt2 for conversational responses for recommendations\n",
    "\n",
    "https://huggingface.co/distilbert/distilgpt2\n",
    "\n",
    "Create JSON data named train_data.json within /data/processed/\n",
    "\n",
    "i.e \n",
    "[\n",
    "  {\n",
    "    \"input\": \"User: What should I build as Yasuo vs Riven?\\nBot:\",\n",
    "    \"output\": \"For sure! In this matchup, you should go:\\nBoots: Berserker's Greaves\\nLegendary Item 1: Blade of The Ruined King\\nLegendary Item 2: Stridebreaker\\nKeystone: Lethal Tempo\\nPrimary Slot 1: Absorb Life\\nPrimary Slot 2: Legend: Alacrity\\nPrimary Slot 3: Cut Down\\nSecondary Slot 1: Taste of Blood\\nSecondary Slot 2: Ravenous Hunter\"\n",
    "  },\n",
    "  {\n",
    "    \"input\": \"User: Can you give me a build for Vladimir vs Anivia?\\nBot:\",\n",
    "    \"output\": \"Sure! Here is a solid build for Vladimir in this matchup:\\nBoots: Sorcerer's Shoes\\nLegendary Item 1: Stormsurge\\nLegendary Item 2: Rabadon's Deathcap\\nKeystone: Phase Rush\\nPrimary Slot 1: Nimbus Cloak\\nPrimary Slot 2: Transcendence\\nPrimary Slot 3: Gathering Storm\\nSecondary Slot 1: Taste of Blood\\nSecondary Slot 2: Ravenous Hunter\"\n",
    "  },\n",
    "  {\n",
    "    \"input\": \"User: How about Malzahar vs Kassadin?\\nBot:\",\n",
    "    \"output\": \"Absolutely! In this matchup, you should try:\\nBoots: Mercury's Treads\\nLegendary Item 1: Rylai's Crystal Scepter\\nLegendary Item 2: Everfrost\\nKeystone: Arcane Comet\\nPrimary Slot 1: Manaflow Band\\nPrimary Slot 2: Transcendence\\nPrimary Slot 3: Gathering Storm\\nSecondary Slot 1: Taste of Blood\\nSecondary Slot 2: Ravenous Hunter\"\n",
    "  }\n",
    "]\n",
    "\n",
    "Create champion name list for input targetting, also include different names for champions as user inputs can vary i.e GPT2 knows Yasuo and Yone, Instead of having to input Kha'zix you can input khazix or voli rather than volibear.\n",
    "\n",
    "i.e\n",
    "[\n",
    "{Yasuo}\n",
    "]\n",
    "\n",
    "Could also create list in python in this notebook.\n",
    "\n",
    "This will allow GPT2 to pass inputs to XGBoost model and fetch the results as part of the output.\n",
    "\n",
    "'''"
   ]
  },
  {
   "cell_type": "code",
   "execution_count": null,
   "id": "c9e88852-59d0-400c-8544-885886b548e7",
   "metadata": {},
   "outputs": [],
   "source": []
  }
 ],
 "metadata": {
  "kernelspec": {
   "display_name": "Python 3 (ipykernel)",
   "language": "python",
   "name": "python3"
  },
  "language_info": {
   "codemirror_mode": {
    "name": "ipython",
    "version": 3
   },
   "file_extension": ".py",
   "mimetype": "text/x-python",
   "name": "python",
   "nbconvert_exporter": "python",
   "pygments_lexer": "ipython3",
   "version": "3.12.7"
  }
 },
 "nbformat": 4,
 "nbformat_minor": 5
}
