{
 "cells": [
  {
   "cell_type": "code",
   "execution_count": null,
   "id": "e8967924-b976-432a-8266-a43bbed52132",
   "metadata": {},
   "outputs": [],
   "source": [
    "import json\n",
    "\n",
    "# path to credentials.json\n",
    "credentials_path = \"config/credentials.json\"\n",
    "\n",
    "# load API key\n",
    "with open(credentials_path, 'r') as file:\n",
    "    credentials = json.load(file)\n",
    "    riot_api_key = credentials.get(\"riot_api_key\")\n",
    "\n",
    "print(f\"Your API key: {riot_api_key}\")"
   ]
  }
 ],
 "metadata": {
  "kernelspec": {
   "display_name": "Python 3 (ipykernel)",
   "language": "python",
   "name": "python3"
  },
  "language_info": {
   "codemirror_mode": {
    "name": "ipython",
    "version": 3
   },
   "file_extension": ".py",
   "mimetype": "text/x-python",
   "name": "python",
   "nbconvert_exporter": "python",
   "pygments_lexer": "ipython3",
   "version": "3.12.7"
  }
 },
 "nbformat": 4,
 "nbformat_minor": 5
}
