{
 "cells": [
  {
   "cell_type": "code",
   "execution_count": 5,
   "id": "5248185e-152a-46e1-ae96-4deadc3633c9",
   "metadata": {},
   "outputs": [],
   "source": [
    "from sklearn.multioutput import MultiOutputClassifier\n",
    "from sklearn.ensemble import RandomForestClassifier\n",
    "import joblib\n",
    "from sklearn.preprocessing import OneHotEncoder, StandardScaler\n",
    "from sklearn.compose import ColumnTransformer\n",
    "from sklearn.pipeline import Pipeline\n",
    "import pandas as pd\n",
    "import joblib\n",
    "import numpy as np"
   ]
  },
  {
   "cell_type": "markdown",
   "id": "38a55c54-497b-4438-bc5f-aa3116388838",
   "metadata": {},
   "source": [
    "## Exploratory Data Analysis"
   ]
  },
  {
   "cell_type": "code",
   "execution_count": 8,
   "id": "f08b92c1-b7f1-40e0-a824-f061ee4f299e",
   "metadata": {},
   "outputs": [],
   "source": [
    "df = pd.read_csv(\"../data/processed/transformed_data.csv\")"
   ]
  },
  {
   "cell_type": "code",
   "execution_count": null,
   "id": "121c15a3-fcbc-408d-a259-70ca9dd9fe19",
   "metadata": {},
   "outputs": [],
   "source": []
  },
  {
   "cell_type": "code",
   "execution_count": null,
   "id": "db9fec75-af05-465b-9b5a-59d145f0f71b",
   "metadata": {},
   "outputs": [],
   "source": []
  },
  {
   "cell_type": "code",
   "execution_count": null,
   "id": "f6e06d4f-625e-40db-ae9c-e3aad45541d8",
   "metadata": {},
   "outputs": [],
   "source": []
  },
  {
   "cell_type": "code",
   "execution_count": null,
   "id": "71da6c8f-07ef-4435-b3f6-631fb46ea5cc",
   "metadata": {},
   "outputs": [],
   "source": []
  },
  {
   "cell_type": "code",
   "execution_count": null,
   "id": "e0a0c05e-9fa5-40e1-8de6-02bd90a4ba6d",
   "metadata": {},
   "outputs": [],
   "source": []
  },
  {
   "cell_type": "code",
   "execution_count": null,
   "id": "039bfe32-da01-433e-967b-f70ae1daa44c",
   "metadata": {},
   "outputs": [],
   "source": []
  },
  {
   "cell_type": "markdown",
   "id": "21d2b69f-ed2b-4624-aedc-692c8cf9e38e",
   "metadata": {},
   "source": [
    "## Pipeline / Basic Modeling"
   ]
  },
  {
   "cell_type": "code",
   "execution_count": null,
   "id": "6181ed1f-c582-430a-a79a-5c6d7ead0d0c",
   "metadata": {},
   "outputs": [],
   "source": [
    "# Load DataFrame\n",
    "df = transformed_df.copy()\n",
    "\n",
    "# Define input features and target features\n",
    "input_features = [\n",
    "    \"championId\", \"matchupChampion\", \"individualPosition\", \n",
    "    \"kills\", \"deaths\", \"assists\", \n",
    "    \"goldEarned\", \"totalDamageDealt\", \n",
    "    \"totalDamageTaken\", \"totalHeal\", \"win\"\n",
    "]\n",
    "target_features = [\n",
    "    \"Boots_id\", \"Legendary_1_id\", \"Legendary_2_id\",\n",
    "    \"Keystone\", \"PrimarySlot1\", \"PrimarySlot2\",\n",
    "    \"PrimarySlot3\", \"SecondarySlot1\", \"SecondarySlot2\"\n",
    "]\n",
    "\n",
    "# One-Hot Encode individualPosition\n",
    "one_hot_encoder = OneHotEncoder(drop='first', handle_unknown='ignore')\n",
    "\n",
    "# Scale numerical features\n",
    "scaler = StandardScaler()\n",
    "\n",
    "# Preprocessor\n",
    "preprocessor = ColumnTransformer(\n",
    "    transformers=[\n",
    "        (\"position\", one_hot_encoder, [\"individualPosition\"]),\n",
    "        (\"scaling\", scaler, [\"kills\", \"deaths\", \"assists\", \"goldEarned\", \"totalDamageDealt\", \"totalDamageTaken\", \"totalHeal\"])\n",
    "    ],\n",
    "    remainder='passthrough'  # Keep championId, matchupChampion, win as-is\n",
    ")\n",
    "\n",
    "# Create pipeline for the entire data processing\n",
    "pipeline = Pipeline([\n",
    "    (\"preprocessor\", preprocessor)\n",
    "])"
   ]
  },
  {
   "cell_type": "code",
   "execution_count": null,
   "id": "bfec71db-3431-4818-b832-f8f43d6ed2b7",
   "metadata": {},
   "outputs": [],
   "source": [
    "# Fit and transform the input features\n",
    "X = df[input_features]\n",
    "X_processed = pipeline.fit_transform(X)\n",
    "\n",
    "# Target features (outputs)\n",
    "y = df[target_features]"
   ]
  },
  {
   "cell_type": "code",
   "execution_count": null,
   "id": "fdcb3eff-bde6-4248-831a-9b9ba2dc1a69",
   "metadata": {},
   "outputs": [],
   "source": [
    "# Initialize the base classifier\n",
    "base_classifier = RandomForestClassifier(n_estimators=100, random_state=42)\n",
    "multi_target_classifier = MultiOutputClassifier(base_classifier)\n",
    "\n",
    "# Fit the classifier\n",
    "multi_target_classifier.fit(X_processed, y)"
   ]
  },
  {
   "cell_type": "code",
   "execution_count": null,
   "id": "cadd39b0-8c7d-41e0-82ed-5c9fd4f9af41",
   "metadata": {},
   "outputs": [],
   "source": [
    "def predict_optimal_build(champion_id, matchup_champion_id, df, pipeline, model):\n",
    "    \"\"\"\n",
    "    Predict the optimal item build and runes for the given champion and matchup champion.\n",
    "\n",
    "    Parameters:\n",
    "    - champion_id: int, champion ID of the player.\n",
    "    - matchup_champion_id: int, champion ID of the opponent.\n",
    "    - df: DataFrame, original DataFrame with historical data.\n",
    "    - pipeline: preprocessing pipeline used for transforming the features.\n",
    "    - model: trained MultiOutputClassifier model.\n",
    "\n",
    "    Returns:\n",
    "    - DataFrame, containing the predicted items and runes.\n",
    "    \"\"\"\n",
    "    # Create a new input DataFrame with average values for other features\n",
    "    input_data = df[(df['championId'] == champion_id) & (df['matchupChampion'] == matchup_champion_id)].mean().to_dict()\n",
    "\n",
    "    # Override champion-specific fields\n",
    "    input_data['championId'] = champion_id\n",
    "    input_data['matchupChampion'] = matchup_champion_id\n",
    "\n",
    "    # Create a DataFrame for input\n",
    "    input_features = df.columns.difference(target_features)\n",
    "    input_df = pd.DataFrame([input_data], columns=input_features)\n",
    "\n",
    "    # Preprocess the input features using the pipeline\n",
    "    input_processed = pipeline.transform(input_df)\n",
    "\n",
    "    # Predict the output\n",
    "    predicted_output = model.predict(input_processed)\n",
    "\n",
    "    # Convert the prediction to a DataFrame for better readability\n",
    "    predicted_df = pd.DataFrame(predicted_output, columns=target_features)\n",
    "\n",
    "    return predicted_df\n",
    "\n",
    "# Define input champion IDs\n",
    "champion_id = 24  # e.g., Jax\n",
    "matchup_champion_id = 777  # e.g., Yone\n",
    "\n",
    "# Call the prediction function\n",
    "predicted_build = predict_optimal_build(champion_id, matchup_champion_id, df, pipeline, multi_target_classifier)\n",
    "\n",
    "# Display the predicted items and runes\n",
    "print(\"Predicted Items and Runes for the given matchup:\")\n",
    "print(predicted_build)"
   ]
  },
  {
   "cell_type": "code",
   "execution_count": null,
   "id": "1789c59c-9ddb-4620-bf53-cd218a1cd53c",
   "metadata": {},
   "outputs": [],
   "source": []
  }
 ],
 "metadata": {
  "kernelspec": {
   "display_name": "Python 3 (ipykernel)",
   "language": "python",
   "name": "python3"
  },
  "language_info": {
   "codemirror_mode": {
    "name": "ipython",
    "version": 3
   },
   "file_extension": ".py",
   "mimetype": "text/x-python",
   "name": "python",
   "nbconvert_exporter": "python",
   "pygments_lexer": "ipython3",
   "version": "3.12.7"
  }
 },
 "nbformat": 4,
 "nbformat_minor": 5
}
